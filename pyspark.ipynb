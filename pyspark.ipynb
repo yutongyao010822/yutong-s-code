{
 "cells": [
  {
   "cell_type": "code",
   "execution_count": 1,
   "metadata": {},
   "outputs": [],
   "source": [
    "from pyspark.sql import SQLContext\n",
    "from pyspark.ml.clustering import KMeans\n",
    "from pyspark.ml.feature import VectorAssembler\n",
    "from pyspark.ml.feature import StandardScaler\n",
    "from notebooks import utils\n",
    "%matplotlib inline\n",
    "import pyspark\n",
    "from pyspark.sql.functions import col,lit\n",
    "from pyspark.sql.types import StructType,StructField,StringType,IntegerType\n",
    "import time"
   ]
  },
  {
   "cell_type": "code",
   "execution_count": 2,
   "metadata": {
    "collapsed": true
   },
   "outputs": [],
   "source": [
    "from pyspark.sql import SQLContext\n",
    "sqlContext = SQLContext(sc)\n",
    "df = sqlContext.read.load('file:///home/cloudera/Downloads/PUBG.csv', \n",
    "                          format='com.databricks.spark.csv', \n",
    "                          header='true',inferSchema='true')"
   ]
  },
  {
   "cell_type": "code",
   "execution_count": 5,
   "metadata": {},
   "outputs": [
    {
     "name": "stdout",
     "output_type": "stream",
     "text": [
      "+--------------+--------------+--------------+-------+------+-----------+-----+-------------+-----+---------+----------+-----+-----------+-----------+-------------+---------+--------+---------+----------+-------+------------+---------+------------+---------+---------------+------------+---------------+---------+------------+\n",
      "|            Id|       groupId|       matchId|assists|boosts|damageDealt|DBNOs|headshotKills|heals|killPlace|killPoints|kills|killStreaks|longestKill|matchDuration|matchType|maxPlace|numGroups|rankPoints|revives|rideDistance|roadKills|swimDistance|teamKills|vehicleDestroys|walkDistance|weaponsAcquired|winPoints|winPlacePerc|\n",
      "+--------------+--------------+--------------+-------+------+-----------+-----+-------------+-----+---------+----------+-----+-----------+-----------+-------------+---------+--------+---------+----------+-------+------------+---------+------------+---------+---------------+------------+---------------+---------+------------+\n",
      "|7f96b2f878858a|4d4b580de459be|a10357fd1a4a91|      0|     0|        0.0|    0|            0|    0|       60|      1241|    0|          0|        0.0|         1306|squad-fpp|      28|       26|        -1|      0|         0.0|        0|         0.0|        0|              0|       244.8|              1|     1466|      0.4444|\n",
      "|eef90569b9d03c|684d5656442f9e|aeb375fc57110c|      0|     0|      91.47|    0|            0|    0|       57|         0|    0|          0|        0.0|         1777|squad-fpp|      26|       25|      1484|      0|      0.0045|        0|       11.04|        0|              0|      1434.0|              5|        0|        0.64|\n",
      "|1eaf90ac73de72|6a4a42c3245a74|110163d8bb94ae|      1|     0|       68.0|    0|            0|    0|       47|         0|    0|          0|        0.0|         1318|      duo|      50|       47|      1491|      0|         0.0|        0|         0.0|        0|              0|       161.8|              2|        0|      0.7755|\n",
      "|4616d365dd2853|a930a9c79cd721|f1f1f4ef412d7e|      0|     0|       32.9|    0|            0|    0|       75|         0|    0|          0|        0.0|         1436|squad-fpp|      31|       30|      1408|      0|         0.0|        0|         0.0|        0|              0|       202.7|              3|        0|      0.1667|\n",
      "|315c96c26c9aac|de04010b3458dd|6dc8ff871e21e6|      0|     0|      100.0|    0|            0|    0|       45|         0|    1|          1|      58.53|         1424| solo-fpp|      97|       95|      1560|      0|         0.0|        0|         0.0|        0|              0|       49.75|              2|        0|      0.1875|\n",
      "+--------------+--------------+--------------+-------+------+-----------+-----+-------------+-----+---------+----------+-----+-----------+-----------+-------------+---------+--------+---------+----------+-------+------------+---------+------------+---------+---------------+------------+---------------+---------+------------+\n",
      "only showing top 5 rows\n",
      "\n"
     ]
    }
   ],
   "source": [
    "df.show(5)"
   ]
  },
  {
   "cell_type": "code",
   "execution_count": 7,
   "metadata": {},
   "outputs": [
    {
     "name": "stdout",
     "output_type": "stream",
     "text": [
      "root\n",
      " |-- Id: string (nullable = true)\n",
      " |-- groupId: string (nullable = true)\n",
      " |-- matchId: string (nullable = true)\n",
      " |-- assists: integer (nullable = true)\n",
      " |-- boosts: integer (nullable = true)\n",
      " |-- damageDealt: double (nullable = true)\n",
      " |-- DBNOs: integer (nullable = true)\n",
      " |-- headshotKills: integer (nullable = true)\n",
      " |-- heals: integer (nullable = true)\n",
      " |-- killPlace: integer (nullable = true)\n",
      " |-- killPoints: integer (nullable = true)\n",
      " |-- kills: integer (nullable = true)\n",
      " |-- killStreaks: integer (nullable = true)\n",
      " |-- longestKill: double (nullable = true)\n",
      " |-- matchDuration: integer (nullable = true)\n",
      " |-- matchType: string (nullable = true)\n",
      " |-- maxPlace: integer (nullable = true)\n",
      " |-- numGroups: integer (nullable = true)\n",
      " |-- rankPoints: integer (nullable = true)\n",
      " |-- revives: integer (nullable = true)\n",
      " |-- rideDistance: double (nullable = true)\n",
      " |-- roadKills: integer (nullable = true)\n",
      " |-- swimDistance: double (nullable = true)\n",
      " |-- teamKills: integer (nullable = true)\n",
      " |-- vehicleDestroys: integer (nullable = true)\n",
      " |-- walkDistance: double (nullable = true)\n",
      " |-- weaponsAcquired: integer (nullable = true)\n",
      " |-- winPoints: integer (nullable = true)\n",
      " |-- winPlacePerc: double (nullable = true)\n",
      "\n"
     ]
    }
   ],
   "source": [
    "cols=df.columns\n",
    "df.printSchema()"
   ]
  },
  {
   "cell_type": "code",
   "execution_count": 9,
   "metadata": {},
   "outputs": [
    {
     "data": {
      "text/html": [
       "<div>\n",
       "<table border=\"1\" class=\"dataframe\">\n",
       "  <thead>\n",
       "    <tr style=\"text-align: right;\">\n",
       "      <th></th>\n",
       "      <th>0</th>\n",
       "      <th>1</th>\n",
       "      <th>2</th>\n",
       "      <th>3</th>\n",
       "      <th>4</th>\n",
       "    </tr>\n",
       "  </thead>\n",
       "  <tbody>\n",
       "    <tr>\n",
       "      <th>Id</th>\n",
       "      <td>7f96b2f878858a</td>\n",
       "      <td>eef90569b9d03c</td>\n",
       "      <td>1eaf90ac73de72</td>\n",
       "      <td>4616d365dd2853</td>\n",
       "      <td>315c96c26c9aac</td>\n",
       "    </tr>\n",
       "    <tr>\n",
       "      <th>groupId</th>\n",
       "      <td>4d4b580de459be</td>\n",
       "      <td>684d5656442f9e</td>\n",
       "      <td>6a4a42c3245a74</td>\n",
       "      <td>a930a9c79cd721</td>\n",
       "      <td>de04010b3458dd</td>\n",
       "    </tr>\n",
       "    <tr>\n",
       "      <th>matchId</th>\n",
       "      <td>a10357fd1a4a91</td>\n",
       "      <td>aeb375fc57110c</td>\n",
       "      <td>110163d8bb94ae</td>\n",
       "      <td>f1f1f4ef412d7e</td>\n",
       "      <td>6dc8ff871e21e6</td>\n",
       "    </tr>\n",
       "    <tr>\n",
       "      <th>assists</th>\n",
       "      <td>0</td>\n",
       "      <td>0</td>\n",
       "      <td>1</td>\n",
       "      <td>0</td>\n",
       "      <td>0</td>\n",
       "    </tr>\n",
       "    <tr>\n",
       "      <th>boosts</th>\n",
       "      <td>0</td>\n",
       "      <td>0</td>\n",
       "      <td>0</td>\n",
       "      <td>0</td>\n",
       "      <td>0</td>\n",
       "    </tr>\n",
       "    <tr>\n",
       "      <th>damageDealt</th>\n",
       "      <td>0</td>\n",
       "      <td>91.47</td>\n",
       "      <td>68</td>\n",
       "      <td>32.9</td>\n",
       "      <td>100</td>\n",
       "    </tr>\n",
       "    <tr>\n",
       "      <th>DBNOs</th>\n",
       "      <td>0</td>\n",
       "      <td>0</td>\n",
       "      <td>0</td>\n",
       "      <td>0</td>\n",
       "      <td>0</td>\n",
       "    </tr>\n",
       "    <tr>\n",
       "      <th>headshotKills</th>\n",
       "      <td>0</td>\n",
       "      <td>0</td>\n",
       "      <td>0</td>\n",
       "      <td>0</td>\n",
       "      <td>0</td>\n",
       "    </tr>\n",
       "    <tr>\n",
       "      <th>heals</th>\n",
       "      <td>0</td>\n",
       "      <td>0</td>\n",
       "      <td>0</td>\n",
       "      <td>0</td>\n",
       "      <td>0</td>\n",
       "    </tr>\n",
       "    <tr>\n",
       "      <th>killPlace</th>\n",
       "      <td>60</td>\n",
       "      <td>57</td>\n",
       "      <td>47</td>\n",
       "      <td>75</td>\n",
       "      <td>45</td>\n",
       "    </tr>\n",
       "    <tr>\n",
       "      <th>killPoints</th>\n",
       "      <td>1241</td>\n",
       "      <td>0</td>\n",
       "      <td>0</td>\n",
       "      <td>0</td>\n",
       "      <td>0</td>\n",
       "    </tr>\n",
       "    <tr>\n",
       "      <th>kills</th>\n",
       "      <td>0</td>\n",
       "      <td>0</td>\n",
       "      <td>0</td>\n",
       "      <td>0</td>\n",
       "      <td>1</td>\n",
       "    </tr>\n",
       "    <tr>\n",
       "      <th>killStreaks</th>\n",
       "      <td>0</td>\n",
       "      <td>0</td>\n",
       "      <td>0</td>\n",
       "      <td>0</td>\n",
       "      <td>1</td>\n",
       "    </tr>\n",
       "    <tr>\n",
       "      <th>longestKill</th>\n",
       "      <td>0</td>\n",
       "      <td>0</td>\n",
       "      <td>0</td>\n",
       "      <td>0</td>\n",
       "      <td>58.53</td>\n",
       "    </tr>\n",
       "    <tr>\n",
       "      <th>matchDuration</th>\n",
       "      <td>1306</td>\n",
       "      <td>1777</td>\n",
       "      <td>1318</td>\n",
       "      <td>1436</td>\n",
       "      <td>1424</td>\n",
       "    </tr>\n",
       "    <tr>\n",
       "      <th>matchType</th>\n",
       "      <td>squad-fpp</td>\n",
       "      <td>squad-fpp</td>\n",
       "      <td>duo</td>\n",
       "      <td>squad-fpp</td>\n",
       "      <td>solo-fpp</td>\n",
       "    </tr>\n",
       "    <tr>\n",
       "      <th>maxPlace</th>\n",
       "      <td>28</td>\n",
       "      <td>26</td>\n",
       "      <td>50</td>\n",
       "      <td>31</td>\n",
       "      <td>97</td>\n",
       "    </tr>\n",
       "    <tr>\n",
       "      <th>numGroups</th>\n",
       "      <td>26</td>\n",
       "      <td>25</td>\n",
       "      <td>47</td>\n",
       "      <td>30</td>\n",
       "      <td>95</td>\n",
       "    </tr>\n",
       "    <tr>\n",
       "      <th>rankPoints</th>\n",
       "      <td>-1</td>\n",
       "      <td>1484</td>\n",
       "      <td>1491</td>\n",
       "      <td>1408</td>\n",
       "      <td>1560</td>\n",
       "    </tr>\n",
       "    <tr>\n",
       "      <th>revives</th>\n",
       "      <td>0</td>\n",
       "      <td>0</td>\n",
       "      <td>0</td>\n",
       "      <td>0</td>\n",
       "      <td>0</td>\n",
       "    </tr>\n",
       "    <tr>\n",
       "      <th>rideDistance</th>\n",
       "      <td>0</td>\n",
       "      <td>0.0045</td>\n",
       "      <td>0</td>\n",
       "      <td>0</td>\n",
       "      <td>0</td>\n",
       "    </tr>\n",
       "    <tr>\n",
       "      <th>roadKills</th>\n",
       "      <td>0</td>\n",
       "      <td>0</td>\n",
       "      <td>0</td>\n",
       "      <td>0</td>\n",
       "      <td>0</td>\n",
       "    </tr>\n",
       "    <tr>\n",
       "      <th>swimDistance</th>\n",
       "      <td>0</td>\n",
       "      <td>11.04</td>\n",
       "      <td>0</td>\n",
       "      <td>0</td>\n",
       "      <td>0</td>\n",
       "    </tr>\n",
       "    <tr>\n",
       "      <th>teamKills</th>\n",
       "      <td>0</td>\n",
       "      <td>0</td>\n",
       "      <td>0</td>\n",
       "      <td>0</td>\n",
       "      <td>0</td>\n",
       "    </tr>\n",
       "    <tr>\n",
       "      <th>vehicleDestroys</th>\n",
       "      <td>0</td>\n",
       "      <td>0</td>\n",
       "      <td>0</td>\n",
       "      <td>0</td>\n",
       "      <td>0</td>\n",
       "    </tr>\n",
       "    <tr>\n",
       "      <th>walkDistance</th>\n",
       "      <td>244.8</td>\n",
       "      <td>1434</td>\n",
       "      <td>161.8</td>\n",
       "      <td>202.7</td>\n",
       "      <td>49.75</td>\n",
       "    </tr>\n",
       "    <tr>\n",
       "      <th>weaponsAcquired</th>\n",
       "      <td>1</td>\n",
       "      <td>5</td>\n",
       "      <td>2</td>\n",
       "      <td>3</td>\n",
       "      <td>2</td>\n",
       "    </tr>\n",
       "    <tr>\n",
       "      <th>winPoints</th>\n",
       "      <td>1466</td>\n",
       "      <td>0</td>\n",
       "      <td>0</td>\n",
       "      <td>0</td>\n",
       "      <td>0</td>\n",
       "    </tr>\n",
       "    <tr>\n",
       "      <th>winPlacePerc</th>\n",
       "      <td>0.4444</td>\n",
       "      <td>0.64</td>\n",
       "      <td>0.7755</td>\n",
       "      <td>0.1667</td>\n",
       "      <td>0.1875</td>\n",
       "    </tr>\n",
       "  </tbody>\n",
       "</table>\n",
       "</div>"
      ],
      "text/plain": [
       "                              0               1               2  \\\n",
       "Id               7f96b2f878858a  eef90569b9d03c  1eaf90ac73de72   \n",
       "groupId          4d4b580de459be  684d5656442f9e  6a4a42c3245a74   \n",
       "matchId          a10357fd1a4a91  aeb375fc57110c  110163d8bb94ae   \n",
       "assists                       0               0               1   \n",
       "boosts                        0               0               0   \n",
       "damageDealt                   0           91.47              68   \n",
       "DBNOs                         0               0               0   \n",
       "headshotKills                 0               0               0   \n",
       "heals                         0               0               0   \n",
       "killPlace                    60              57              47   \n",
       "killPoints                 1241               0               0   \n",
       "kills                         0               0               0   \n",
       "killStreaks                   0               0               0   \n",
       "longestKill                   0               0               0   \n",
       "matchDuration              1306            1777            1318   \n",
       "matchType             squad-fpp       squad-fpp             duo   \n",
       "maxPlace                     28              26              50   \n",
       "numGroups                    26              25              47   \n",
       "rankPoints                   -1            1484            1491   \n",
       "revives                       0               0               0   \n",
       "rideDistance                  0          0.0045               0   \n",
       "roadKills                     0               0               0   \n",
       "swimDistance                  0           11.04               0   \n",
       "teamKills                     0               0               0   \n",
       "vehicleDestroys               0               0               0   \n",
       "walkDistance              244.8            1434           161.8   \n",
       "weaponsAcquired               1               5               2   \n",
       "winPoints                  1466               0               0   \n",
       "winPlacePerc             0.4444            0.64          0.7755   \n",
       "\n",
       "                              3               4  \n",
       "Id               4616d365dd2853  315c96c26c9aac  \n",
       "groupId          a930a9c79cd721  de04010b3458dd  \n",
       "matchId          f1f1f4ef412d7e  6dc8ff871e21e6  \n",
       "assists                       0               0  \n",
       "boosts                        0               0  \n",
       "damageDealt                32.9             100  \n",
       "DBNOs                         0               0  \n",
       "headshotKills                 0               0  \n",
       "heals                         0               0  \n",
       "killPlace                    75              45  \n",
       "killPoints                    0               0  \n",
       "kills                         0               1  \n",
       "killStreaks                   0               1  \n",
       "longestKill                   0           58.53  \n",
       "matchDuration              1436            1424  \n",
       "matchType             squad-fpp        solo-fpp  \n",
       "maxPlace                     31              97  \n",
       "numGroups                    30              95  \n",
       "rankPoints                 1408            1560  \n",
       "revives                       0               0  \n",
       "rideDistance                  0               0  \n",
       "roadKills                     0               0  \n",
       "swimDistance                  0               0  \n",
       "teamKills                     0               0  \n",
       "vehicleDestroys               0               0  \n",
       "walkDistance              202.7           49.75  \n",
       "weaponsAcquired               3               2  \n",
       "winPoints                     0               0  \n",
       "winPlacePerc             0.1667          0.1875  "
      ]
     },
     "execution_count": 9,
     "metadata": {},
     "output_type": "execute_result"
    }
   ],
   "source": [
    "import pandas as pd\n",
    "pd.DataFrame(df.take(5),columns=df.columns).transpose()"
   ]
  },
  {
   "cell_type": "code",
   "execution_count": 10,
   "metadata": {},
   "outputs": [
    {
     "data": {
      "text/html": [
       "<div>\n",
       "<table border=\"1\" class=\"dataframe\">\n",
       "  <thead>\n",
       "    <tr style=\"text-align: right;\">\n",
       "      <th></th>\n",
       "      <th>0</th>\n",
       "      <th>1</th>\n",
       "      <th>2</th>\n",
       "      <th>3</th>\n",
       "      <th>4</th>\n",
       "    </tr>\n",
       "  </thead>\n",
       "  <tbody>\n",
       "    <tr>\n",
       "      <th>summary</th>\n",
       "      <td>count</td>\n",
       "      <td>mean</td>\n",
       "      <td>stddev</td>\n",
       "      <td>min</td>\n",
       "      <td>max</td>\n",
       "    </tr>\n",
       "    <tr>\n",
       "      <th>assists</th>\n",
       "      <td>4446966</td>\n",
       "      <td>0.23381492010507837</td>\n",
       "      <td>0.5885730210230652</td>\n",
       "      <td>0</td>\n",
       "      <td>22</td>\n",
       "    </tr>\n",
       "    <tr>\n",
       "      <th>boosts</th>\n",
       "      <td>4446966</td>\n",
       "      <td>1.1069077209045448</td>\n",
       "      <td>1.7157934844642069</td>\n",
       "      <td>0</td>\n",
       "      <td>33</td>\n",
       "    </tr>\n",
       "    <tr>\n",
       "      <th>damageDealt</th>\n",
       "      <td>4446966</td>\n",
       "      <td>130.7171378984272</td>\n",
       "      <td>170.78060146503475</td>\n",
       "      <td>0.0</td>\n",
       "      <td>6616.0</td>\n",
       "    </tr>\n",
       "    <tr>\n",
       "      <th>DBNOs</th>\n",
       "      <td>4446966</td>\n",
       "      <td>0.6578755043326169</td>\n",
       "      <td>1.1457425960775853</td>\n",
       "      <td>0</td>\n",
       "      <td>53</td>\n",
       "    </tr>\n",
       "    <tr>\n",
       "      <th>headshotKills</th>\n",
       "      <td>4446966</td>\n",
       "      <td>0.22681958890623405</td>\n",
       "      <td>0.602155208079661</td>\n",
       "      <td>0</td>\n",
       "      <td>64</td>\n",
       "    </tr>\n",
       "    <tr>\n",
       "      <th>heals</th>\n",
       "      <td>4446966</td>\n",
       "      <td>1.370147196987789</td>\n",
       "      <td>2.6799819292019107</td>\n",
       "      <td>0</td>\n",
       "      <td>80</td>\n",
       "    </tr>\n",
       "    <tr>\n",
       "      <th>killPlace</th>\n",
       "      <td>4446966</td>\n",
       "      <td>47.59935020865912</td>\n",
       "      <td>27.462933930580867</td>\n",
       "      <td>1</td>\n",
       "      <td>101</td>\n",
       "    </tr>\n",
       "    <tr>\n",
       "      <th>killPoints</th>\n",
       "      <td>4446966</td>\n",
       "      <td>505.00604209701623</td>\n",
       "      <td>627.5048257251201</td>\n",
       "      <td>0</td>\n",
       "      <td>2170</td>\n",
       "    </tr>\n",
       "    <tr>\n",
       "      <th>kills</th>\n",
       "      <td>4446966</td>\n",
       "      <td>0.9247833241810259</td>\n",
       "      <td>1.5584444780020816</td>\n",
       "      <td>0</td>\n",
       "      <td>72</td>\n",
       "    </tr>\n",
       "    <tr>\n",
       "      <th>killStreaks</th>\n",
       "      <td>4446966</td>\n",
       "      <td>0.543955137052993</td>\n",
       "      <td>0.7109720124699191</td>\n",
       "      <td>0</td>\n",
       "      <td>20</td>\n",
       "    </tr>\n",
       "    <tr>\n",
       "      <th>longestKill</th>\n",
       "      <td>4446966</td>\n",
       "      <td>22.99759484533954</td>\n",
       "      <td>50.972613085011076</td>\n",
       "      <td>0.0</td>\n",
       "      <td>1094.0</td>\n",
       "    </tr>\n",
       "    <tr>\n",
       "      <th>matchDuration</th>\n",
       "      <td>4446966</td>\n",
       "      <td>1579.5064396714524</td>\n",
       "      <td>258.7398273690637</td>\n",
       "      <td>9</td>\n",
       "      <td>2237</td>\n",
       "    </tr>\n",
       "    <tr>\n",
       "      <th>maxPlace</th>\n",
       "      <td>4446966</td>\n",
       "      <td>44.504670150390176</td>\n",
       "      <td>23.828102775779683</td>\n",
       "      <td>1</td>\n",
       "      <td>100</td>\n",
       "    </tr>\n",
       "    <tr>\n",
       "      <th>numGroups</th>\n",
       "      <td>4446966</td>\n",
       "      <td>43.00759259234273</td>\n",
       "      <td>23.28949204427573</td>\n",
       "      <td>1</td>\n",
       "      <td>100</td>\n",
       "    </tr>\n",
       "    <tr>\n",
       "      <th>rankPoints</th>\n",
       "      <td>4446966</td>\n",
       "      <td>892.0104565674665</td>\n",
       "      <td>736.6476965085105</td>\n",
       "      <td>-1</td>\n",
       "      <td>5910</td>\n",
       "    </tr>\n",
       "    <tr>\n",
       "      <th>revives</th>\n",
       "      <td>4446966</td>\n",
       "      <td>0.16465900571310868</td>\n",
       "      <td>0.4721670451510465</td>\n",
       "      <td>0</td>\n",
       "      <td>39</td>\n",
       "    </tr>\n",
       "    <tr>\n",
       "      <th>rideDistance</th>\n",
       "      <td>4446966</td>\n",
       "      <td>606.1156691540934</td>\n",
       "      <td>1498.3433446034414</td>\n",
       "      <td>0.0</td>\n",
       "      <td>40710.0</td>\n",
       "    </tr>\n",
       "    <tr>\n",
       "      <th>roadKills</th>\n",
       "      <td>4446966</td>\n",
       "      <td>0.0034960914924917347</td>\n",
       "      <td>0.0733729584341662</td>\n",
       "      <td>0</td>\n",
       "      <td>18</td>\n",
       "    </tr>\n",
       "    <tr>\n",
       "      <th>swimDistance</th>\n",
       "      <td>4446966</td>\n",
       "      <td>4.509322451307254</td>\n",
       "      <td>30.502195752482855</td>\n",
       "      <td>0.0</td>\n",
       "      <td>3823.0</td>\n",
       "    </tr>\n",
       "    <tr>\n",
       "      <th>teamKills</th>\n",
       "      <td>4446966</td>\n",
       "      <td>0.0238684082585745</td>\n",
       "      <td>0.16739348372095703</td>\n",
       "      <td>0</td>\n",
       "      <td>12</td>\n",
       "    </tr>\n",
       "    <tr>\n",
       "      <th>vehicleDestroys</th>\n",
       "      <td>4446966</td>\n",
       "      <td>0.00791820760491535</td>\n",
       "      <td>0.09261155604035816</td>\n",
       "      <td>0</td>\n",
       "      <td>5</td>\n",
       "    </tr>\n",
       "    <tr>\n",
       "      <th>walkDistance</th>\n",
       "      <td>4446966</td>\n",
       "      <td>1154.2178590962683</td>\n",
       "      <td>1183.4969087219015</td>\n",
       "      <td>0.0</td>\n",
       "      <td>25780.0</td>\n",
       "    </tr>\n",
       "    <tr>\n",
       "      <th>weaponsAcquired</th>\n",
       "      <td>4446966</td>\n",
       "      <td>3.6604876223474614</td>\n",
       "      <td>2.4565433467539517</td>\n",
       "      <td>0</td>\n",
       "      <td>236</td>\n",
       "    </tr>\n",
       "    <tr>\n",
       "      <th>winPoints</th>\n",
       "      <td>4446966</td>\n",
       "      <td>606.4601305699211</td>\n",
       "      <td>739.7003607877178</td>\n",
       "      <td>0</td>\n",
       "      <td>2013</td>\n",
       "    </tr>\n",
       "    <tr>\n",
       "      <th>winPlacePerc</th>\n",
       "      <td>4446965</td>\n",
       "      <td>0.47282155272190196</td>\n",
       "      <td>0.3074049471366761</td>\n",
       "      <td>0.0</td>\n",
       "      <td>1.0</td>\n",
       "    </tr>\n",
       "  </tbody>\n",
       "</table>\n",
       "</div>"
      ],
      "text/plain": [
       "                       0                      1                    2    3  \\\n",
       "summary            count                   mean               stddev  min   \n",
       "assists          4446966    0.23381492010507837   0.5885730210230652    0   \n",
       "boosts           4446966     1.1069077209045448   1.7157934844642069    0   \n",
       "damageDealt      4446966      130.7171378984272   170.78060146503475  0.0   \n",
       "DBNOs            4446966     0.6578755043326169   1.1457425960775853    0   \n",
       "headshotKills    4446966    0.22681958890623405    0.602155208079661    0   \n",
       "heals            4446966      1.370147196987789   2.6799819292019107    0   \n",
       "killPlace        4446966      47.59935020865912   27.462933930580867    1   \n",
       "killPoints       4446966     505.00604209701623    627.5048257251201    0   \n",
       "kills            4446966     0.9247833241810259   1.5584444780020816    0   \n",
       "killStreaks      4446966      0.543955137052993   0.7109720124699191    0   \n",
       "longestKill      4446966      22.99759484533954   50.972613085011076  0.0   \n",
       "matchDuration    4446966     1579.5064396714524    258.7398273690637    9   \n",
       "maxPlace         4446966     44.504670150390176   23.828102775779683    1   \n",
       "numGroups        4446966      43.00759259234273    23.28949204427573    1   \n",
       "rankPoints       4446966      892.0104565674665    736.6476965085105   -1   \n",
       "revives          4446966    0.16465900571310868   0.4721670451510465    0   \n",
       "rideDistance     4446966      606.1156691540934   1498.3433446034414  0.0   \n",
       "roadKills        4446966  0.0034960914924917347   0.0733729584341662    0   \n",
       "swimDistance     4446966      4.509322451307254   30.502195752482855  0.0   \n",
       "teamKills        4446966     0.0238684082585745  0.16739348372095703    0   \n",
       "vehicleDestroys  4446966    0.00791820760491535  0.09261155604035816    0   \n",
       "walkDistance     4446966     1154.2178590962683   1183.4969087219015  0.0   \n",
       "weaponsAcquired  4446966     3.6604876223474614   2.4565433467539517    0   \n",
       "winPoints        4446966      606.4601305699211    739.7003607877178    0   \n",
       "winPlacePerc     4446965    0.47282155272190196   0.3074049471366761  0.0   \n",
       "\n",
       "                       4  \n",
       "summary              max  \n",
       "assists               22  \n",
       "boosts                33  \n",
       "damageDealt       6616.0  \n",
       "DBNOs                 53  \n",
       "headshotKills         64  \n",
       "heals                 80  \n",
       "killPlace            101  \n",
       "killPoints          2170  \n",
       "kills                 72  \n",
       "killStreaks           20  \n",
       "longestKill       1094.0  \n",
       "matchDuration       2237  \n",
       "maxPlace             100  \n",
       "numGroups            100  \n",
       "rankPoints          5910  \n",
       "revives               39  \n",
       "rideDistance     40710.0  \n",
       "roadKills             18  \n",
       "swimDistance      3823.0  \n",
       "teamKills             12  \n",
       "vehicleDestroys        5  \n",
       "walkDistance     25780.0  \n",
       "weaponsAcquired      236  \n",
       "winPoints           2013  \n",
       "winPlacePerc         1.0  "
      ]
     },
     "execution_count": 10,
     "metadata": {},
     "output_type": "execute_result"
    }
   ],
   "source": [
    "df.describe().toPandas().transpose()"
   ]
  },
  {
   "cell_type": "code",
   "execution_count": 12,
   "metadata": {},
   "outputs": [
    {
     "data": {
      "text/plain": [
       "29"
      ]
     },
     "execution_count": 12,
     "metadata": {},
     "output_type": "execute_result"
    }
   ],
   "source": [
    "#The column of the dataframe\n",
    "len(df.columns)"
   ]
  },
  {
   "cell_type": "code",
   "execution_count": 13,
   "metadata": {},
   "outputs": [
    {
     "data": {
      "text/plain": [
       "4446966"
      ]
     },
     "execution_count": 13,
     "metadata": {},
     "output_type": "execute_result"
    }
   ],
   "source": [
    "#The total count of the dataframe\n",
    "df.count()"
   ]
  },
  {
   "cell_type": "code",
   "execution_count": 3,
   "metadata": {},
   "outputs": [],
   "source": [
    "#drop na\n",
    "df=df.na.drop(subset=['winPlacePerc'])"
   ]
  },
  {
   "cell_type": "code",
   "execution_count": 15,
   "metadata": {},
   "outputs": [
    {
     "data": {
      "text/plain": [
       "4446965"
      ]
     },
     "execution_count": 15,
     "metadata": {},
     "output_type": "execute_result"
    }
   ],
   "source": [
    "df.count()"
   ]
  },
  {
   "cell_type": "code",
   "execution_count": 5,
   "metadata": {},
   "outputs": [],
   "source": [
    "#check the number of people in a match\n",
    "playersJoined=df.groupby(df.matchId).count()"
   ]
  },
  {
   "cell_type": "code",
   "execution_count": 7,
   "metadata": {},
   "outputs": [
    {
     "name": "stdout",
     "output_type": "stream",
     "text": [
      "root\n",
      " |-- matchId: string (nullable = true)\n",
      " |-- count: long (nullable = false)\n",
      "\n"
     ]
    }
   ],
   "source": [
    "playersJoined.printSchema()"
   ]
  },
  {
   "cell_type": "code",
   "execution_count": 60,
   "metadata": {},
   "outputs": [
    {
     "name": "stdout",
     "output_type": "stream",
     "text": [
      "+--------------+-----+\n",
      "|       matchId|count|\n",
      "+--------------+-----+\n",
      "|a7367cf85d0db9|  100|\n",
      "|21f34ed30102cd|  100|\n",
      "|e90703b941c398|  100|\n",
      "|fd980efc1b5c3d|  100|\n",
      "|f0c1de80afa8e7|  100|\n",
      "|7d005fbc3e7cfa|  100|\n",
      "|a39df882642c4d|  100|\n",
      "|06b3f2c58518f4|  100|\n",
      "|1a31f480716898|  100|\n",
      "|cd5651b2decf05|  100|\n",
      "|4020b45808feef|  100|\n",
      "|045043f888f6a7|  100|\n",
      "|f44c7500c941ce|  100|\n",
      "|9a5219783267c3|  100|\n",
      "|e23056639b3d7e|  100|\n",
      "|7f49b2f144bf03|  100|\n",
      "|654736efda21d9|  100|\n",
      "|5a67a3d9a84cfb|  100|\n",
      "|997a1a90fe3453|  100|\n",
      "|c4f47bf73eb13e|  100|\n",
      "+--------------+-----+\n",
      "only showing top 20 rows\n",
      "\n"
     ]
    }
   ],
   "source": [
    "playersJoined.sort('count',ascending=False).show()"
   ]
  },
  {
   "cell_type": "code",
   "execution_count": 61,
   "metadata": {},
   "outputs": [
    {
     "name": "stdout",
     "output_type": "stream",
     "text": [
      "+--------------+-----+\n",
      "|       matchId|count|\n",
      "+--------------+-----+\n",
      "|e5a77433bc436f|    2|\n",
      "|8aa5066c4b6a79|    5|\n",
      "|9f2b49358564ea|    6|\n",
      "|39d2800dad8ae6|    6|\n",
      "|f491e7a7e2ff47|    7|\n",
      "|6fd4b1adb6da3c|    7|\n",
      "|da121c891ea777|    7|\n",
      "|8799301e853202|    7|\n",
      "|3270384443bd32|    7|\n",
      "|66ad63285e8952|    7|\n",
      "|17536f834bb256|    7|\n",
      "|1f251de6c42568|    7|\n",
      "|23c3819550f61f|    7|\n",
      "|0ac026a48eb471|    7|\n",
      "|7c785a64ec89df|    7|\n",
      "|bc10cc08f1f56a|    7|\n",
      "|998a86ce7ec062|    7|\n",
      "|8772c5274a0630|    8|\n",
      "|a46b1598692634|    8|\n",
      "|93513672bce7d5|    8|\n",
      "+--------------+-----+\n",
      "only showing top 20 rows\n",
      "\n"
     ]
    }
   ],
   "source": [
    "playersJoined.sort('count',ascending=True).show()"
   ]
  },
  {
   "cell_type": "code",
   "execution_count": 6,
   "metadata": {},
   "outputs": [],
   "source": [
    "#Add playersJoined in the dataframe\n",
    "cond=[df.matchId==playersJoined.matchId]\n",
    "df_join=df.join(playersJoined,on=cond,how=\"full\").drop(playersJoined.matchId)"
   ]
  },
  {
   "cell_type": "code",
   "execution_count": 7,
   "metadata": {},
   "outputs": [],
   "source": [
    "df2=df_join"
   ]
  },
  {
   "cell_type": "code",
   "execution_count": 8,
   "metadata": {},
   "outputs": [],
   "source": [
    "df2=df2.na.drop(subset=['winPlacePerc'])\n",
    "#drop the unuseful column\n",
    "df2=df2.drop(\"count\")"
   ]
  },
  {
   "cell_type": "code",
   "execution_count": 9,
   "metadata": {},
   "outputs": [],
   "source": [
    "#change the type of playersjoined into 'int'\n",
    "df2=df2.withColumn(\"playersJoin\",df2[\"count\"].cast(\"Int\"))"
   ]
  },
  {
   "cell_type": "code",
   "execution_count": 10,
   "metadata": {
    "collapsed": true
   },
   "outputs": [],
   "source": [
    "#Normalize some factors according to the number of persons in a match"
   ]
  },
  {
   "cell_type": "code",
   "execution_count": 11,
   "metadata": {},
   "outputs": [],
   "source": [
    "df2=df2.withColumn(\"killsNorm\",df2.kills*((100-df2.playersJoin)/100+1))\n",
    "df2=df2.withColumn(\"damageDealtNorm\",df2.damageDealt*((100-df2.playersJoin)/100+1))\n",
    "df2=df2.withColumn(\"maxPlaceNorm\",df2.maxPlace*((100-df2.playersJoin)/100+1))\n",
    "df2=df2.withColumn(\"matchDurationNorm\",df2.matchDuration*((100-df2.playersJoin)/100+1))"
   ]
  },
  {
   "cell_type": "code",
   "execution_count": 94,
   "metadata": {},
   "outputs": [
    {
     "name": "stdout",
     "output_type": "stream",
     "text": [
      "+--------------+-----+------------------+-----------+------------------+--------+------------+-------------+-----------------+\n",
      "|            Id|kills|         killsNorm|damageDealt|   damageDealtNorm|maxPlace|maxPlaceNorm|matchDuration|matchDurationNorm|\n",
      "+--------------+-----+------------------+-----------+------------------+--------+------------+-------------+-----------------+\n",
      "|ae726f90d45955|    0|               0.0|        0.0|               0.0|      26|        27.3|         1265|          1328.25|\n",
      "|5045feb853c423|    0|               0.0|        0.0|               0.0|      26|        27.3|         1265|          1328.25|\n",
      "|619d35699d01d4|    1|              1.05|      91.26| 95.82300000000001|      26|        27.3|         1265|          1328.25|\n",
      "|aefe8868836fc0|    0|               0.0|        0.0|               0.0|      26|        27.3|         1265|          1328.25|\n",
      "|fc14e9980f86ff|    0|               0.0|        0.0|               0.0|      26|        27.3|         1265|          1328.25|\n",
      "|4be18104d8042d|    2|               2.1|       97.6|            102.48|      26|        27.3|         1265|          1328.25|\n",
      "|a2acd4971b08e4|    2|               2.1|      253.0|265.65000000000003|      26|        27.3|         1265|          1328.25|\n",
      "|ca42157d6ad447|    0|               0.0|      114.9|120.64500000000001|      26|        27.3|         1265|          1328.25|\n",
      "|386bde6e05fdd5|    1|              1.05|      117.8|            123.69|      26|        27.3|         1265|          1328.25|\n",
      "|d11b6dfc0b1126|    3|3.1500000000000004|      332.7|           349.335|      26|        27.3|         1265|          1328.25|\n",
      "|8539e0b64b6836|    1|              1.05|       75.0|             78.75|      26|        27.3|         1265|          1328.25|\n",
      "|382fddfa24fbb9|    0|               0.0|        0.0|               0.0|      26|        27.3|         1265|          1328.25|\n",
      "|779fb6154b452f|    0|               0.0|      44.88|            47.124|      26|        27.3|         1265|          1328.25|\n",
      "|ddc20930ede690|    1|              1.05|      16.63|           17.4615|      26|        27.3|         1265|          1328.25|\n",
      "|e785d352205841|    0|               0.0|      115.0|            120.75|      26|        27.3|         1265|          1328.25|\n",
      "|ce058c99548e95|    2|               2.1|      284.8|            299.04|      26|        27.3|         1265|          1328.25|\n",
      "|a7288a5073dc4c|    0|               0.0|      331.0|            347.55|      26|        27.3|         1265|          1328.25|\n",
      "|11f182e55fcc7e|    2|               2.1|      209.2|            219.66|      26|        27.3|         1265|          1328.25|\n",
      "|9d7a91782d3012|    1|              1.05|      467.7|491.08500000000004|      26|        27.3|         1265|          1328.25|\n",
      "|c114da9c724423|    2|               2.1|      200.0|             210.0|      26|        27.3|         1265|          1328.25|\n",
      "+--------------+-----+------------------+-----------+------------------+--------+------------+-------------+-----------------+\n",
      "only showing top 20 rows\n",
      "\n"
     ]
    }
   ],
   "source": [
    "#show the normalization result\n",
    "df2.select(\"Id\",\"kills\",\"killsNorm\",\"damageDealt\",\"damageDealtNorm\",\"maxPlace\"\n",
    "           ,\"maxPlaceNorm\",\"matchDuration\",\"matchDurationNorm\").show(20)"
   ]
  },
  {
   "cell_type": "code",
   "execution_count": 22,
   "metadata": {
    "collapsed": true
   },
   "outputs": [],
   "source": [
    "#Create new feature\n",
    "df2=df2.withColumn(\"healsandboosts\",df2.heals+df2.boosts)\n",
    "#Create new feature to calculate the total moving distance of the players\n",
    "df2=df2.withColumn(\"totalDistance\",df2.rideDistance+df2.walkDistance+df2.swimDistance)"
   ]
  },
  {
   "cell_type": "code",
   "execution_count": 97,
   "metadata": {},
   "outputs": [
    {
     "name": "stdout",
     "output_type": "stream",
     "text": [
      "+--------------+\n",
      "|healsandboosts|\n",
      "+--------------+\n",
      "|             0|\n",
      "|             0|\n",
      "|             3|\n",
      "|             1|\n",
      "|             0|\n",
      "|             3|\n",
      "|             0|\n",
      "|             1|\n",
      "|             0|\n",
      "|             8|\n",
      "+--------------+\n",
      "only showing top 10 rows\n",
      "\n"
     ]
    }
   ],
   "source": [
    "df2.select(\"healsandboosts\").show(10)"
   ]
  },
  {
   "cell_type": "code",
   "execution_count": null,
   "metadata": {
    "collapsed": true
   },
   "outputs": [],
   "source": [
    "#delete the outliers\n",
    "\n",
    "#Remove players with kills but no moves\n",
    "cond1=(df2.totalDistance==0)&(df2.kills>0)\n",
    "df2=df2.filter(~cond1)\n",
    "\n",
    "#delete abnormal roadkills players\n",
    "cond2=(df2.roadKills>10)\n",
    "df2=df2.filter(~cond2)\n",
    "\n",
    "#delete abnormal kills player\n",
    "cond3=(df2.kills>30)\n",
    "df2=df2.filter(~cond3)\n",
    "\n",
    "#delete abnormal headshot\n",
    "df2=df2.withColumn(\"headshotrate\",df2.headshotKills/df2.kills)\n",
    "df2=df2.fillna(0,subset='headshotrate')\n",
    "cond4=(df2.headshotrate==1)&(df2.kills>9)\n",
    "df2=df2.filter(~cond4)\n",
    "\n",
    "#delete the abnormal data of longest kill distance\n",
    "cond5=(df2.longestKill>1000)\n",
    "df2=df2.filter(~cond5)\n",
    "\n",
    "#delete the abnormal walkdistance\n",
    "cond6=(df2.walkDistance>10000)\n",
    "df2=df2.filter(~cond6)\n",
    "\n",
    "#delete the abnormal ridedistance\n",
    "cond7=(df2.rideDistance>20000)\n",
    "df2=df2.filter(~cond7)\n",
    "\n",
    "#delete the abnormal swimdistance\n",
    "cond8=(df2.swimDistance>2000)\n",
    "df2=df2.filter(~cond8)\n",
    "\n",
    "#delete the abnormal weaponsAcquired\n",
    "cond9=(df2.weaponsAcquired>=80)\n",
    "df2=df2.filter(~cond9)\n",
    "\n",
    "#delete the abnormal heals\n",
    "cond10=(df2.heals>=40)\n",
    "df2=df2.filter(~cond10)\n",
    "\n",
    "#delete the player joined the match less than 30 people\n",
    "cond11=(df2.playersJoin<=30)\n",
    "df2=df2.filter(~cond11)"
   ]
  },
  {
   "cell_type": "code",
   "execution_count": null,
   "metadata": {
    "collapsed": true
   },
   "outputs": [],
   "source": [
    "#categorical features processing"
   ]
  },
  {
   "cell_type": "code",
   "execution_count": null,
   "metadata": {
    "collapsed": true
   },
   "outputs": [],
   "source": [
    "#one hot processing of matchType"
   ]
  },
  {
   "cell_type": "code",
   "execution_count": 55,
   "metadata": {
    "collapsed": true
   },
   "outputs": [],
   "source": [
    "from pyspark.ml.feature import OneHotEncoder,StringIndexer,VectorAssembler"
   ]
  },
  {
   "cell_type": "code",
   "execution_count": 56,
   "metadata": {
    "collapsed": true
   },
   "outputs": [],
   "source": [
    "matchType_indexer=StringIndexer(inputCol=\"matchType\",outputCol=\"matchType_index\").fit(df2)\n",
    "df2=matchType_indexer.transform(df2)\n",
    "matchType_encoder=OneHotEncoder(inputCol=\"matchType_index\",outputCol=\"matchType_vec\")\n",
    "df2=matchType_encoder.transform(df2)"
   ]
  },
  {
   "cell_type": "code",
   "execution_count": 269,
   "metadata": {},
   "outputs": [
    {
     "name": "stdout",
     "output_type": "stream",
     "text": [
      "+---------+---------------+--------------+\n",
      "|matchType|matchType_index| matchType_vec|\n",
      "+---------+---------------+--------------+\n",
      "|    squad|            2.0|(15,[2],[1.0])|\n",
      "|    squad|            2.0|(15,[2],[1.0])|\n",
      "|    squad|            2.0|(15,[2],[1.0])|\n",
      "|    squad|            2.0|(15,[2],[1.0])|\n",
      "|    squad|            2.0|(15,[2],[1.0])|\n",
      "|    squad|            2.0|(15,[2],[1.0])|\n",
      "|    squad|            2.0|(15,[2],[1.0])|\n",
      "|    squad|            2.0|(15,[2],[1.0])|\n",
      "|    squad|            2.0|(15,[2],[1.0])|\n",
      "|    squad|            2.0|(15,[2],[1.0])|\n",
      "+---------+---------------+--------------+\n",
      "only showing top 10 rows\n",
      "\n"
     ]
    }
   ],
   "source": [
    "df2.select(\"matchType\",\"matchType_index\",\"matchType_vec\").show(10)"
   ]
  },
  {
   "cell_type": "code",
   "execution_count": null,
   "metadata": {
    "collapsed": true
   },
   "outputs": [],
   "source": [
    "#transform matchId and groupId into indexer"
   ]
  },
  {
   "cell_type": "code",
   "execution_count": 60,
   "metadata": {
    "collapsed": true
   },
   "outputs": [],
   "source": [
    "matchId_indexer=StringIndexer(inputCol=\"matchId\",outputCol=\"matchId_index\").fit(df2)\n",
    "df2=matchId_indexer.transform(df2)\n",
    "groupId_indexer=StringIndexer(inputCol=\"groupId\",outputCol=\"groupId_index\").fit(df2)\n",
    "df2=groupId_indexer.transform(df2)"
   ]
  },
  {
   "cell_type": "code",
   "execution_count": 279,
   "metadata": {},
   "outputs": [
    {
     "name": "stdout",
     "output_type": "stream",
     "text": [
      "+--------------+--------------+-------------+-------------+\n",
      "|       matchId|       groupId|matchId_index|groupId_index|\n",
      "+--------------+--------------+-------------+-------------+\n",
      "|d175baf70ed648|ca2b3b4a3767a5|      23439.0|      54681.0|\n",
      "|d175baf70ed648|7dbbbfc823ee84|      23439.0|     291181.0|\n",
      "|d175baf70ed648|04466adcaf854a|      23439.0|     326142.0|\n",
      "|d175baf70ed648|d6f5359f685490|      23439.0|     109616.0|\n",
      "|d175baf70ed648|bbfb5dbbe3388e|      23439.0|      92853.0|\n",
      "|d175baf70ed648|62cc685c916e51|      23439.0|     187937.0|\n",
      "|d175baf70ed648|59a0a939ac4942|      23439.0|     291474.0|\n",
      "|d175baf70ed648|04466adcaf854a|      23439.0|     326142.0|\n",
      "|d175baf70ed648|62cc685c916e51|      23439.0|     187937.0|\n",
      "|d175baf70ed648|78d57101399c32|      23439.0|     496997.0|\n",
      "+--------------+--------------+-------------+-------------+\n",
      "only showing top 10 rows\n",
      "\n"
     ]
    }
   ],
   "source": [
    "df2.select('matchId','groupId','matchId_index','groupId_index').show(10)"
   ]
  },
  {
   "cell_type": "code",
   "execution_count": null,
   "metadata": {
    "collapsed": true
   },
   "outputs": [],
   "source": [
    "#feature selection"
   ]
  },
  {
   "cell_type": "code",
   "execution_count": 333,
   "metadata": {},
   "outputs": [
    {
     "name": "stdout",
     "output_type": "stream",
     "text": [
      "\n"
     ]
    }
   ],
   "source": [
    "corr={}\n",
    "for col in df2.columns:\n",
    "    if col!=\"winPlacePerc\":\n",
    "        corr[col]=abs(df2.stat.corr(col,'winPlacePerc'))"
   ]
  },
  {
   "cell_type": "code",
   "execution_count": 336,
   "metadata": {
    "scrolled": true
   },
   "outputs": [
    {
     "data": {
      "text/plain": [
       "{'DBNOs': 0.2807155334978206,\n",
       " 'assists': 0.30049954868817236,\n",
       " 'boosts': 0.6344589042654931,\n",
       " 'damageDealtNorm': 0.42746789059909407,\n",
       " 'groupId_index': 0.1501161949177794,\n",
       " 'headshotKills': 0.28009697957913127,\n",
       " 'headshotrate': 0.18101963817689934,\n",
       " 'heals': 0.42924556353139326,\n",
       " 'healsandboosts': 0.5771262421553316,\n",
       " 'killPlace': 0.7192503342850658,\n",
       " 'killPoints': 0.012949205434866357,\n",
       " 'killStreaks': 0.3778581700850878,\n",
       " 'killsNorm': 0.4082605988465656,\n",
       " 'longestKill': 0.4107286425427856,\n",
       " 'matchDurationNorm': 0.012123488527207224,\n",
       " 'matchId_index': 0.0032119562184513978,\n",
       " 'matchType_index': 0.016637808300621344,\n",
       " 'maxPlaceNorm': 0.03692710965102434,\n",
       " 'numGroups': 0.03981353054252559,\n",
       " 'playersJoin': 0.01799710855244391,\n",
       " 'rankPoints': 0.01350650744556773,\n",
       " 'revives': 0.24101341061228487,\n",
       " 'rideDistance': 0.34406917491611294,\n",
       " 'roadKills': 0.03492786223878848,\n",
       " 'swimDistance': 0.150852602635124,\n",
       " 'teamKills': 0.01598572059338612,\n",
       " 'totalDistance': 0.6784808196306544,\n",
       " 'vehicleDestroys': 0.07344941636640268,\n",
       " 'walkDistance': 0.8122891571127386,\n",
       " 'weaponsAcquired': 0.5919674800335318,\n",
       " 'winPoints': 0.0070823131868080385}"
      ]
     },
     "execution_count": 336,
     "metadata": {},
     "output_type": "execute_result"
    }
   ],
   "source": [
    "corr"
   ]
  },
  {
   "cell_type": "code",
   "execution_count": null,
   "metadata": {
    "collapsed": true
   },
   "outputs": [],
   "source": [
    "#select features whose correlations are larger than 0.4"
   ]
  },
  {
   "cell_type": "code",
   "execution_count": 338,
   "metadata": {},
   "outputs": [
    {
     "data": {
      "text/plain": [
       "{'boosts': 0.6344589042654931,\n",
       " 'damageDealtNorm': 0.42746789059909407,\n",
       " 'heals': 0.42924556353139326,\n",
       " 'healsandboosts': 0.5771262421553316,\n",
       " 'killPlace': 0.7192503342850658,\n",
       " 'killsNorm': 0.4082605988465656,\n",
       " 'longestKill': 0.4107286425427856,\n",
       " 'totalDistance': 0.6784808196306544,\n",
       " 'walkDistance': 0.8122891571127386,\n",
       " 'weaponsAcquired': 0.5919674800335318}"
      ]
     },
     "execution_count": 338,
     "metadata": {},
     "output_type": "execute_result"
    }
   ],
   "source": [
    "feature_corr={}\n",
    "for key in corr.keys():\n",
    "    if corr[key]>=0.4:\n",
    "        feature_corr[key]=corr[key]\n",
    "        \n",
    "feature_corr"
   ]
  },
  {
   "cell_type": "code",
   "execution_count": null,
   "metadata": {
    "collapsed": true
   },
   "outputs": [],
   "source": [
    "# min max scaler normalization"
   ]
  },
  {
   "cell_type": "code",
   "execution_count": 70,
   "metadata": {},
   "outputs": [],
   "source": [
    "df_norm=df2.select('healsandboosts','damageDealtNorm','killsNorm','killPlace','totalDistance',\n",
    "                   'killStreaks','longestKill','walkDistance','weaponsAcquired','winPlacePerc')"
   ]
  },
  {
   "cell_type": "code",
   "execution_count": 71,
   "metadata": {},
   "outputs": [],
   "source": [
    "from pyspark.sql.functions import min,max"
   ]
  },
  {
   "cell_type": "code",
   "execution_count": 72,
   "metadata": {
    "collapsed": true
   },
   "outputs": [],
   "source": [
    "df_norm=df_norm.withColumn(\"walkDistancenorm\",(df_norm.walkDistance-0)/(9990-0))\n",
    "df_norm=df_norm.withColumn(\"weaponsAcquirednorm\",(df_norm.weaponsAcquired-0)/(76-0))\n",
    "df_norm=df_norm.withColumn(\"longestKillnorm\",(df_norm.longestKill-0)/(1000-0))\n",
    "df_norm=df_norm.withColumn(\"killStreaksnorm\",(df_norm.killStreaks-0)/(16-0))\n",
    "df_norm=df_norm.withColumn(\"totalDistancenorm\",(df_norm.totalDistance-0)/(22521-0))\n",
    "df_norm=df_norm.withColumn(\"killPlacenorm\",(df_norm.killPlace-1)/(101-1))\n",
    "df_norm=df_norm.withColumn(\"killsNormnorm\",(df_norm.killsNorm-0)/(50.4-0))\n",
    "df_norm=df_norm.withColumn(\"damageDealNormnorm\",(df_norm.damageDealtNorm-0)/(5112.24-0))\n",
    "df_norm=df_norm.withColumn(\"healsandboostsnorm\",(df_norm.healsandboosts-0)/(50-0))"
   ]
  },
  {
   "cell_type": "code",
   "execution_count": 100,
   "metadata": {},
   "outputs": [
    {
     "name": "stdout",
     "output_type": "stream",
     "text": [
      "+--------------+------------------+---------+-------------+\n",
      "|healsandboosts|healsandboostsnorm|killPlace|killPlacenorm|\n",
      "+--------------+------------------+---------+-------------+\n",
      "|             0|               0.0|       80|         0.79|\n",
      "|             0|               0.0|       44|         0.43|\n",
      "|             3|              0.06|       34|         0.33|\n",
      "|             1|              0.02|       71|          0.7|\n",
      "|             0|               0.0|       86|         0.85|\n",
      "|             3|              0.06|       11|          0.1|\n",
      "|             0|               0.0|       21|          0.2|\n",
      "|             1|              0.02|       54|         0.53|\n",
      "|             0|               0.0|       22|         0.21|\n",
      "|             8|              0.16|        6|         0.05|\n",
      "|             3|              0.06|       32|         0.31|\n",
      "|             4|              0.08|       56|         0.55|\n",
      "|             0|               0.0|       64|         0.63|\n",
      "|             2|              0.04|       33|         0.32|\n",
      "|             0|               0.0|       72|         0.71|\n",
      "|             6|              0.12|       17|         0.16|\n",
      "|             5|               0.1|       43|         0.42|\n",
      "|            13|              0.26|       12|         0.11|\n",
      "|             4|              0.08|       24|         0.23|\n",
      "|             0|               0.0|       18|         0.17|\n",
      "+--------------+------------------+---------+-------------+\n",
      "only showing top 20 rows\n",
      "\n"
     ]
    }
   ],
   "source": [
    "df_norm.select('healsandboosts','healsandboostsnorm','killPlace','killPlacenorm').show()"
   ]
  },
  {
   "cell_type": "code",
   "execution_count": null,
   "metadata": {
    "collapsed": true
   },
   "outputs": [],
   "source": [
    "##Transform selected features into vectors"
   ]
  },
  {
   "cell_type": "code",
   "execution_count": 81,
   "metadata": {
    "collapsed": true
   },
   "outputs": [],
   "source": [
    "df_assembler=VectorAssembler(inputCols=['healsandboostsnorm','damageDealNormnorm','killsNormnorm','killPlacenorm','totalDistancenorm',\n",
    "                                        'killStreaksnorm','longestKillnorm','walkDistancenorm','weaponsAcquirednorm'],outputCol=\"features\")\n",
    "\n",
    "df2=df_assembler.transform(df_norm)\n",
    "model_df=df2.select(['features','winPlacePerc'])\n",
    "model_df=model_df.withColumnRenamed(\"winPlacePerc\",\"label\")"
   ]
  },
  {
   "cell_type": "code",
   "execution_count": 172,
   "metadata": {},
   "outputs": [
    {
     "name": "stdout",
     "output_type": "stream",
     "text": [
      "+--------------------+-----+\n",
      "|            features|label|\n",
      "+--------------------+-----+\n",
      "|(9,[3,4,7,8],[0.7...| 0.12|\n",
      "|(9,[3,4,7,8],[0.4...| 0.96|\n",
      "|[0.06,0.018743838...| 0.56|\n",
      "|[0.02,0.0,0.0,0.7...| 0.24|\n",
      "|(9,[3,4,7,8],[0.8...| 0.08|\n",
      "|[0.06,0.020046007...|  1.0|\n",
      "|[0.0,0.0519635228...| 0.16|\n",
      "|[0.02,0.023599244...| 0.56|\n",
      "|[0.0,0.0241948734...|  1.0|\n",
      "|[0.16,0.068333059...| 0.88|\n",
      "|[0.06,0.015404206...|  0.6|\n",
      "|[0.08,0.0,0.0,0.5...| 0.56|\n",
      "|[0.0,0.0092178770...|  0.4|\n",
      "|[0.04,0.003415626...|  0.6|\n",
      "|[0.0,0.0236197831...| 0.24|\n",
      "|[0.12,0.058494906...| 0.44|\n",
      "|[0.1,0.0679838974...| 0.96|\n",
      "|[0.26,0.042967466...| 0.88|\n",
      "|[0.08,0.096060630...|  1.0|\n",
      "|[0.0,0.0410778836...| 0.44|\n",
      "+--------------------+-----+\n",
      "only showing top 20 rows\n",
      "\n"
     ]
    }
   ],
   "source": [
    "model_df.show()"
   ]
  },
  {
   "cell_type": "code",
   "execution_count": 345,
   "metadata": {
    "collapsed": true
   },
   "outputs": [],
   "source": [
    "#Spilt the traing and testing set"
   ]
  },
  {
   "cell_type": "code",
   "execution_count": 86,
   "metadata": {
    "collapsed": true
   },
   "outputs": [],
   "source": [
    "training_df,testing_df=model_df.randomSplit([0.7,0.3])"
   ]
  },
  {
   "cell_type": "code",
   "execution_count": 87,
   "metadata": {},
   "outputs": [
    {
     "data": {
      "text/plain": [
       "3102974"
      ]
     },
     "execution_count": 87,
     "metadata": {},
     "output_type": "execute_result"
    }
   ],
   "source": [
    "training_df.count()"
   ]
  },
  {
   "cell_type": "code",
   "execution_count": 88,
   "metadata": {},
   "outputs": [
    {
     "data": {
      "text/plain": [
       "1328921"
      ]
     },
     "execution_count": 88,
     "metadata": {},
     "output_type": "execute_result"
    }
   ],
   "source": [
    "testing_df.count()"
   ]
  },
  {
   "cell_type": "code",
   "execution_count": 181,
   "metadata": {
    "collapsed": true
   },
   "outputs": [],
   "source": [
    "#Machine learning"
   ]
  },
  {
   "cell_type": "code",
   "execution_count": 89,
   "metadata": {
    "collapsed": true
   },
   "outputs": [],
   "source": [
    "#Random forest\n",
    "from pyspark.ml import Pipeline\n",
    "from pyspark.ml.evaluation import RegressionEvaluator\n",
    "from pyspark.ml.regression import RandomForestRegressor\n",
    "rf=RandomForestRegressor()"
   ]
  },
  {
   "cell_type": "code",
   "execution_count": 119,
   "metadata": {
    "collapsed": true
   },
   "outputs": [],
   "source": [
    "from pyspark.ml import Pipeline\n",
    "rf=RandomForestRegressor()\n",
    "pipeline=Pipeline(stages=[rf])\n",
    "model_rf=pipeline.fit(training_df)"
   ]
  },
  {
   "cell_type": "code",
   "execution_count": 120,
   "metadata": {},
   "outputs": [
    {
     "name": "stdout",
     "output_type": "stream",
     "text": [
      "0.19205093383789062\n"
     ]
    }
   ],
   "source": [
    "start_time_rf=time.time()\n",
    "predictions_rf=model_rf.transform(testing_df)\n",
    "end_time_rf=time.time()\n",
    "total_time_rf=end_time_rf-start_time_rf\n",
    "print(total_time_rf)"
   ]
  },
  {
   "cell_type": "code",
   "execution_count": 91,
   "metadata": {},
   "outputs": [],
   "source": [
    "from pyspark.ml.evaluation import RegressionEvaluator\n",
    "evaluator_r2=RegressionEvaluator().setLabelCol(\"label\").setPredictionCol(\"prediction\").setMetricName(\"r2\")\n",
    "evaluator_rmse=RegressionEvaluator().setLabelCol(\"label\").setPredictionCol(\"prediction\").setMetricName(\"rmse\")"
   ]
  },
  {
   "cell_type": "code",
   "execution_count": 189,
   "metadata": {},
   "outputs": [
    {
     "name": "stdout",
     "output_type": "stream",
     "text": [
      "0.8416392257948355\n"
     ]
    }
   ],
   "source": [
    "rf_r2=evaluator_r2.evaluate(predictions_rf)\n",
    "print(rf_r2)"
   ]
  },
  {
   "cell_type": "code",
   "execution_count": 191,
   "metadata": {},
   "outputs": [
    {
     "name": "stdout",
     "output_type": "stream",
     "text": [
      "0.12218511109799837\n"
     ]
    }
   ],
   "source": [
    "rf_rmse=evaluator_rmse.evaluate(predictions_rf)\n",
    "print(rf_rmse)"
   ]
  },
  {
   "cell_type": "code",
   "execution_count": 192,
   "metadata": {},
   "outputs": [
    {
     "name": "stdout",
     "output_type": "stream",
     "text": [
      "+-----+-------------------+\n",
      "|label|         prediction|\n",
      "+-----+-------------------+\n",
      "| 0.96| 0.7516882976399468|\n",
      "|  1.0| 0.8500144531857918|\n",
      "|  1.0| 0.7975617244314783|\n",
      "|  0.6| 0.6730866272820697|\n",
      "| 0.56|  0.584369640831339|\n",
      "|  0.6| 0.6284058935854007|\n",
      "| 0.44| 0.6403446265653774|\n",
      "|  0.0|0.05617337490155224|\n",
      "| 0.88| 0.6394291730631309|\n",
      "|  0.8| 0.7856430936930188|\n",
      "| 0.12|0.15654633297584974|\n",
      "| 0.68| 0.7421312806728695|\n",
      "| 0.12|0.09952942203286845|\n",
      "| 0.08|0.11574264296603627|\n",
      "| 0.48| 0.6598436245289085|\n",
      "| 0.16|0.23152223037159209|\n",
      "| 0.04|0.07253928510624309|\n",
      "|  0.2|0.23583322363625708|\n",
      "| 0.24| 0.2394166190337515|\n",
      "|  0.6| 0.5682315956100107|\n",
      "+-----+-------------------+\n",
      "only showing top 20 rows\n",
      "\n"
     ]
    }
   ],
   "source": [
    "predictions_rf.select('label','prediction').show()"
   ]
  },
  {
   "cell_type": "code",
   "execution_count": 193,
   "metadata": {
    "collapsed": true
   },
   "outputs": [],
   "source": [
    "#Linear regression"
   ]
  },
  {
   "cell_type": "code",
   "execution_count": 115,
   "metadata": {
    "collapsed": true
   },
   "outputs": [],
   "source": [
    "from pyspark.ml.regression import LinearRegression\n",
    "lr=LinearRegression()\n",
    "from pyspark.ml import Pipeline\n",
    "from pyspark.ml.regression import LinearRegression\n",
    "pipeline=Pipeline(stages=[lr])\n",
    "model_lr=pipeline.fit(training_df)"
   ]
  },
  {
   "cell_type": "code",
   "execution_count": 116,
   "metadata": {},
   "outputs": [
    {
     "name": "stdout",
     "output_type": "stream",
     "text": [
      "0.15981173515319824\n"
     ]
    }
   ],
   "source": [
    "start_time_lr=time.time()\n",
    "predictions_lr=model_lr.transform(testing_df)\n",
    "end_time_lr=time.time()\n",
    "total_time_lr=end_time_lr-start_time_lr\n",
    "print(total_time_lr)"
   ]
  },
  {
   "cell_type": "code",
   "execution_count": 198,
   "metadata": {},
   "outputs": [
    {
     "name": "stdout",
     "output_type": "stream",
     "text": [
      "0.8101519732061374\n"
     ]
    }
   ],
   "source": [
    "lr_r2=evaluator_r2.evaluate(predictions_lr)\n",
    "print(lr_r2)"
   ]
  },
  {
   "cell_type": "code",
   "execution_count": 200,
   "metadata": {},
   "outputs": [
    {
     "name": "stdout",
     "output_type": "stream",
     "text": [
      "0.13378195055122657\n"
     ]
    }
   ],
   "source": [
    "lr_rmse=evaluator_rmse.evaluate(predictions_lr)\n",
    "print(lr_rmse)"
   ]
  },
  {
   "cell_type": "code",
   "execution_count": 201,
   "metadata": {},
   "outputs": [
    {
     "name": "stdout",
     "output_type": "stream",
     "text": [
      "+-----+-------------------+\n",
      "|label|         prediction|\n",
      "+-----+-------------------+\n",
      "| 0.96|  0.721494900653645|\n",
      "|  1.0| 1.0412179682926368|\n",
      "|  1.0| 0.9151380150970152|\n",
      "|  0.6| 0.5451979372517126|\n",
      "| 0.56| 0.5154738953603585|\n",
      "|  0.6|0.49955316527680144|\n",
      "| 0.44|0.45009640160008435|\n",
      "|  0.0|0.05945708103491376|\n",
      "| 0.88| 0.5544756111204812|\n",
      "|  0.8| 0.6559685648106013|\n",
      "| 0.12|0.18124330373031816|\n",
      "| 0.68| 0.7571769981337068|\n",
      "| 0.12| 0.1338954950657275|\n",
      "| 0.08|0.13784648919876863|\n",
      "| 0.48| 0.7586818035710097|\n",
      "| 0.16|0.22264412044381254|\n",
      "| 0.04|0.08608870269010682|\n",
      "|  0.2|0.31965814162084744|\n",
      "| 0.24|0.23114760025779102|\n",
      "|  0.6| 0.5157254257006886|\n",
      "+-----+-------------------+\n",
      "only showing top 20 rows\n",
      "\n"
     ]
    }
   ],
   "source": [
    "predictions_lr.select('label','prediction').show()"
   ]
  },
  {
   "cell_type": "code",
   "execution_count": 202,
   "metadata": {
    "collapsed": true
   },
   "outputs": [],
   "source": [
    "#Decision tree"
   ]
  },
  {
   "cell_type": "code",
   "execution_count": 108,
   "metadata": {
    "collapsed": true
   },
   "outputs": [],
   "source": [
    "from pyspark.ml.regression import DecisionTreeRegressor\n",
    "from pyspark.ml import Pipeline\n",
    "dt=DecisionTreeRegressor()\n",
    "pipeline=Pipeline(stages=[dt])\n",
    "model_dt=pipeline.fit(training_df)"
   ]
  },
  {
   "cell_type": "code",
   "execution_count": 113,
   "metadata": {},
   "outputs": [
    {
     "name": "stdout",
     "output_type": "stream",
     "text": [
      "0.026291847229003906\n"
     ]
    }
   ],
   "source": [
    "start_time_dt=time.time()\n",
    "predictions_dt=model_dt.transform(testing_df)\n",
    "end_time_dt=time.time()\n",
    "total_time_dt=end_time_dt-start_time_dt\n",
    "print(total_time_dt)"
   ]
  },
  {
   "cell_type": "code",
   "execution_count": 207,
   "metadata": {},
   "outputs": [
    {
     "name": "stdout",
     "output_type": "stream",
     "text": [
      "0.8460742789290905\n"
     ]
    }
   ],
   "source": [
    "dt_r2=evaluator_r2.evaluate(predictions_dt)\n",
    "print(dt_r2)"
   ]
  },
  {
   "cell_type": "code",
   "execution_count": 212,
   "metadata": {},
   "outputs": [
    {
     "name": "stdout",
     "output_type": "stream",
     "text": [
      "0.12046200246783491\n"
     ]
    }
   ],
   "source": [
    "dt_rmse=evaluator_rmse.evaluate(predictions_dt)\n",
    "print(dt_rmse)"
   ]
  },
  {
   "cell_type": "code",
   "execution_count": 210,
   "metadata": {},
   "outputs": [
    {
     "name": "stdout",
     "output_type": "stream",
     "text": [
      "+-----+-------------------+\n",
      "|label|         prediction|\n",
      "+-----+-------------------+\n",
      "| 0.96| 0.7716369376367671|\n",
      "|  1.0| 0.9100684357380648|\n",
      "|  1.0| 0.8403500925120844|\n",
      "|  0.6|  0.700306524789523|\n",
      "| 0.56| 0.6237132188008003|\n",
      "|  0.6| 0.5753745571771057|\n",
      "| 0.44| 0.6237132188008003|\n",
      "|  0.0|0.03313655135362408|\n",
      "| 0.88| 0.6237132188008003|\n",
      "|  0.8| 0.8383453408102455|\n",
      "| 0.12|0.16307433341327848|\n",
      "| 0.68| 0.8383453408102455|\n",
      "| 0.12|0.12459329629244982|\n",
      "| 0.08|0.08001949396831547|\n",
      "| 0.48| 0.5680900764503072|\n",
      "| 0.16|0.20617157767833863|\n",
      "| 0.04|0.08001949396831547|\n",
      "|  0.2|0.16217701185829653|\n",
      "| 0.24| 0.2833710977204408|\n",
      "|  0.6| 0.5753745571771057|\n",
      "+-----+-------------------+\n",
      "only showing top 20 rows\n",
      "\n"
     ]
    }
   ],
   "source": [
    "predictions_dt.select('label','prediction').show()"
   ]
  },
  {
   "cell_type": "code",
   "execution_count": 94,
   "metadata": {
    "collapsed": true
   },
   "outputs": [],
   "source": [
    "#Tuning Linear regression"
   ]
  },
  {
   "cell_type": "code",
   "execution_count": 98,
   "metadata": {
    "collapsed": true
   },
   "outputs": [],
   "source": [
    "from pyspark.ml import Pipeline\n",
    "from pyspark.ml.tuning import ParamGridBuilder,CrossValidator\n",
    "from pyspark.ml.regression import LinearRegression\n",
    "lr_1=LinearRegression(maxIter=10)\n",
    "pipeline=Pipeline(stages=[lr_1])\n",
    "model_lr_1=pipeline.fit(training_df)"
   ]
  },
  {
   "cell_type": "code",
   "execution_count": 99,
   "metadata": {},
   "outputs": [
    {
     "name": "stdout",
     "output_type": "stream",
     "text": [
      "0.12936878204345703\n",
      "0.8103265247942821\n",
      "0.1336843098461082\n"
     ]
    }
   ],
   "source": [
    "start_time_lr_1=time.time()\n",
    "predictions_lr_1=model_lr_1.transform(testing_df)\n",
    "end_time_lr_1=time.time()\n",
    "total_time_lr_1=end_time_lr_1-start_time_lr_1\n",
    "print(total_time_lr_1)\n",
    "\n",
    "lr_r2_1=evaluator_r2.evaluate(predictions_lr_1)\n",
    "print(lr_r2_1)\n",
    "\n",
    "lr_rmse_1=evaluator_rmse.evaluate(predictions_lr_1)\n",
    "print(lr_rmse_1)"
   ]
  },
  {
   "cell_type": "code",
   "execution_count": 100,
   "metadata": {
    "collapsed": true
   },
   "outputs": [],
   "source": [
    "from pyspark.ml import Pipeline\n",
    "from pyspark.ml.regression import LinearRegression\n",
    "lr_2=LinearRegression(maxIter=15)\n",
    "pipeline=Pipeline(stages=[lr_2])\n",
    "model_lr_2=pipeline.fit(training_df)"
   ]
  },
  {
   "cell_type": "code",
   "execution_count": 101,
   "metadata": {},
   "outputs": [
    {
     "name": "stdout",
     "output_type": "stream",
     "text": [
      "0.11773967742919922\n",
      "0.8103366993170137\n",
      "0.13368072423064695\n"
     ]
    }
   ],
   "source": [
    "start_time_lr_2=time.time()\n",
    "predictions_lr_2=model_lr_2.transform(testing_df)\n",
    "end_time_lr_2=time.time()\n",
    "total_time_lr_2=end_time_lr_2-start_time_lr_2\n",
    "print(total_time_lr_2)\n",
    "\n",
    "lr_r2_2=evaluator_r2.evaluate(predictions_lr_2)\n",
    "print(lr_r2_2)\n",
    "\n",
    "lr_rmse_2=evaluator_rmse.evaluate(predictions_lr_2)\n",
    "print(lr_rmse_2)"
   ]
  },
  {
   "cell_type": "code",
   "execution_count": null,
   "metadata": {
    "collapsed": true
   },
   "outputs": [],
   "source": [
    "#Tuning decision tree"
   ]
  },
  {
   "cell_type": "code",
   "execution_count": 121,
   "metadata": {
    "collapsed": true
   },
   "outputs": [],
   "source": [
    "from pyspark.ml import Pipeline\n",
    "dt_1=DecisionTreeRegressor(maxDepth=5)\n",
    "pipeline=Pipeline(stages=[dt_1])\n",
    "model_dt_1=pipeline.fit(training_df)"
   ]
  },
  {
   "cell_type": "code",
   "execution_count": 122,
   "metadata": {},
   "outputs": [
    {
     "name": "stdout",
     "output_type": "stream",
     "text": [
      "0.06852865219116211\n",
      "0.84617746487309\n",
      "0.12030828955107345\n"
     ]
    }
   ],
   "source": [
    "start_time_dt_1=time.time()\n",
    "predictions_dt_1=model_dt_1.transform(testing_df)\n",
    "end_time_dt_1=time.time()\n",
    "total_time_dt_1=end_time_dt_1-start_time_dt_1\n",
    "print(total_time_dt_1)\n",
    "\n",
    "dt_r2_1=evaluator_r2.evaluate(predictions_dt_1)\n",
    "print(dt_r2_1)\n",
    "\n",
    "dt_rmse_1=evaluator_rmse.evaluate(predictions_dt_1)\n",
    "print(dt_rmse_1)"
   ]
  },
  {
   "cell_type": "code",
   "execution_count": 123,
   "metadata": {
    "collapsed": true
   },
   "outputs": [],
   "source": [
    "from pyspark.ml import Pipeline\n",
    "dt_2=DecisionTreeRegressor(maxDepth=7)\n",
    "pipeline=Pipeline(stages=[dt_2])\n",
    "model_dt_2=pipeline.fit(training_df)"
   ]
  },
  {
   "cell_type": "code",
   "execution_count": 124,
   "metadata": {},
   "outputs": [
    {
     "name": "stdout",
     "output_type": "stream",
     "text": [
      "0.24312233924865723\n",
      "0.8666530821002912\n",
      "0.11201522643527245\n"
     ]
    }
   ],
   "source": [
    "start_time_dt_2=time.time()\n",
    "predictions_dt_2=model_dt_2.transform(testing_df)\n",
    "end_time_dt_2=time.time()\n",
    "total_time_dt_2=end_time_dt_2-start_time_dt_2\n",
    "print(total_time_dt_2)\n",
    "\n",
    "dt_r2_2=evaluator_r2.evaluate(predictions_dt_2)\n",
    "print(dt_r2_2)\n",
    "\n",
    "dt_rmse_2=evaluator_rmse.evaluate(predictions_dt_2)\n",
    "print(dt_rmse_2)"
   ]
  },
  {
   "cell_type": "code",
   "execution_count": null,
   "metadata": {
    "collapsed": true
   },
   "outputs": [],
   "source": [
    "#Tuning random forest"
   ]
  },
  {
   "cell_type": "code",
   "execution_count": 94,
   "metadata": {},
   "outputs": [],
   "source": [
    "from pyspark.ml import Pipeline\n",
    "rf_1=RandomForestRegressor(maxDepth=3)\n",
    "pipeline=Pipeline(stages=[rf_1])\n",
    "model_rf_1=pipeline.fit(training_df)"
   ]
  },
  {
   "cell_type": "code",
   "execution_count": 95,
   "metadata": {},
   "outputs": [
    {
     "name": "stdout",
     "output_type": "stream",
     "text": [
      "0.2435154914855957\n",
      "0.8051480090486378\n",
      "0.13549696309491824\n"
     ]
    }
   ],
   "source": [
    "start_time_rf_1=time.time()\n",
    "predictions_rf_1=model_rf_1.transform(testing_df)\n",
    "end_time_rf_1=time.time()\n",
    "total_time_rf_1=end_time_rf_1-start_time_rf_1\n",
    "print(total_time_rf_1)\n",
    "\n",
    "rf_r2_1=evaluator_r2.evaluate(predictions_rf_1)\n",
    "print(rf_r2_1)\n",
    "rf_rmse_1=evaluator_rmse.evaluate(predictions_rf_1)\n",
    "print(rf_rmse_1)"
   ]
  },
  {
   "cell_type": "code",
   "execution_count": 96,
   "metadata": {
    "collapsed": true
   },
   "outputs": [],
   "source": [
    "from pyspark.ml import Pipeline\n",
    "rf_2=RandomForestRegressor(maxDepth=4)\n",
    "pipeline=Pipeline(stages=[rf_2])\n",
    "model_rf_2=pipeline.fit(training_df)"
   ]
  },
  {
   "cell_type": "code",
   "execution_count": 97,
   "metadata": {},
   "outputs": [
    {
     "name": "stdout",
     "output_type": "stream",
     "text": [
      "0.1118323802947998\n",
      "0.8287961865793335\n",
      "0.1270088122366782\n"
     ]
    }
   ],
   "source": [
    "start_time_rf_2=time.time()\n",
    "predictions_rf_2=model_rf_2.transform(testing_df)\n",
    "end_time_rf_2=time.time()\n",
    "total_time_rf_2=end_time_rf_2-start_time_rf_2\n",
    "print(total_time_rf_2)\n",
    "\n",
    "rf_r2_2=evaluator_r2.evaluate(predictions_rf_2)\n",
    "print(rf_r2_2)\n",
    "rf_rmse_2=evaluator_rmse.evaluate(predictions_rf_2)\n",
    "print(rf_rmse_2)"
   ]
  },
  {
   "cell_type": "code",
   "execution_count": null,
   "metadata": {
    "collapsed": true
   },
   "outputs": [],
   "source": []
  },
  {
   "cell_type": "code",
   "execution_count": null,
   "metadata": {
    "collapsed": true
   },
   "outputs": [],
   "source": [
    "#Plot\n",
    "#If you run the program, the plot will be shown on the popup window"
   ]
  },
  {
   "cell_type": "code",
   "execution_count": 1,
   "metadata": {
    "collapsed": true
   },
   "outputs": [],
   "source": [
    "import matplotlib\n",
    "import pandas as pd\n",
    "import matplotlib.pyplot as plt\n",
    "import numpy as np"
   ]
  },
  {
   "cell_type": "code",
   "execution_count": 2,
   "metadata": {
    "collapsed": true
   },
   "outputs": [],
   "source": [
    "df=pd.read_csv('file:///home/cloudera/Downloads/train_V2.csv')"
   ]
  },
  {
   "cell_type": "code",
   "execution_count": 3,
   "metadata": {
    "collapsed": true
   },
   "outputs": [],
   "source": [
    "train=df"
   ]
  },
  {
   "cell_type": "code",
   "execution_count": 4,
   "metadata": {},
   "outputs": [],
   "source": [
    "#kills count\n",
    "labels0=['0','1','2','3','4','5','6','7','larger']\n",
    "data0=[2529722,928079,472466,232441,124543,66577,37960,21816,33362]\n",
    "plt.bar(range(len(data0)),data0)\n",
    "plt.xticks(range(len(data0)),labels0)\n",
    "plt.xlabel('kills')\n",
    "plt.ylabel('count')\n",
    "plt.title('Kill count')\n",
    "matplotlib.pyplot.show()"
   ]
  },
  {
   "cell_type": "code",
   "execution_count": 5,
   "metadata": {},
   "outputs": [],
   "source": [
    "plt.figure(figsize=(10,4))\n",
    "counts=train['kills'].value_counts()\n",
    "plt.bar(counts.index,counts.values,color='PowDerBlue')\n",
    "plt.title('kills',fontsize=15)\n",
    "plt.xlabel('kills')\n",
    "plt.ylabel('count')\n",
    "plt.grid()\n",
    "plt.show()"
   ]
  },
  {
   "cell_type": "code",
   "execution_count": 6,
   "metadata": {
    "collapsed": true
   },
   "outputs": [],
   "source": [
    "train['playersJoined']=train.groupby('matchId')['matchId'].transform('count')"
   ]
  },
  {
   "cell_type": "code",
   "execution_count": 7,
   "metadata": {
    "collapsed": true
   },
   "outputs": [],
   "source": [
    "#playersJoined\n",
    "plt.figure(figsize=(20,10))\n",
    "counts=train['playersJoined'].value_counts()\n",
    "plt.bar(counts.index,counts.values,color='PowDerBlue')\n",
    "plt.title('playersJoined',fontsize=15)\n",
    "plt.xlabel('playersJoined')\n",
    "plt.ylabel('count')\n",
    "plt.grid()\n",
    "plt.show()"
   ]
  },
  {
   "cell_type": "code",
   "execution_count": 8,
   "metadata": {
    "collapsed": true
   },
   "outputs": [],
   "source": [
    "select_playersJoined=train[train['playersJoined']>=75]"
   ]
  },
  {
   "cell_type": "code",
   "execution_count": 9,
   "metadata": {
    "collapsed": true
   },
   "outputs": [],
   "source": [
    "#playersJoined\n",
    "plt.figure(figsize=(20,10))\n",
    "counts=train[train['playersJoined']>=75]['playersJoined'].value_counts()\n",
    "plt.bar(counts.index,counts.values,color='PowDerBlue')\n",
    "plt.title('playersJoined>=75',fontsize=15)\n",
    "plt.xlabel('playersJoined')\n",
    "plt.ylabel('count')\n",
    "plt.grid(True)\n",
    "plt.show()"
   ]
  },
  {
   "cell_type": "code",
   "execution_count": 10,
   "metadata": {},
   "outputs": [
    {
     "data": {
      "text/plain": [
       "4446961    0.0\n",
       "4446962    0.0\n",
       "4446963    0.0\n",
       "4446964    0.5\n",
       "4446965    0.0\n",
       "Name: headshot_rate, dtype: float64"
      ]
     },
     "execution_count": 10,
     "metadata": {},
     "output_type": "execute_result"
    }
   ],
   "source": [
    "train['headshot_rate']=train['headshotKills']/train['kills']\n",
    "train['headshot_rate']=train['headshot_rate'].fillna(0)\n",
    "train['headshot_rate'].tail()"
   ]
  },
  {
   "cell_type": "code",
   "execution_count": 11,
   "metadata": {},
   "outputs": [],
   "source": [
    "#headshot rate\n",
    "plt.figure(figsize=(12,4))\n",
    "plt.hist(train['headshot_rate'],bins=10,color='PowDerBlue')\n",
    "plt.title('headshot_rate',fontsize=15)\n",
    "plt.xlabel('headshot_rate')\n",
    "plt.ylabel('count')\n",
    "plt.grid(True)\n",
    "plt.show()"
   ]
  },
  {
   "cell_type": "code",
   "execution_count": 12,
   "metadata": {
    "collapsed": true
   },
   "outputs": [],
   "source": [
    "#longest kill\n",
    "plt.figure(figsize=(12,4))\n",
    "plt.hist(train['longestKill'],bins=10,color='PowDerBlue')\n",
    "plt.title('longestKill',fontsize=15)\n",
    "plt.xlabel('longestKil')\n",
    "plt.grid(True)\n",
    "plt.show()"
   ]
  },
  {
   "cell_type": "code",
   "execution_count": 13,
   "metadata": {
    "collapsed": true
   },
   "outputs": [],
   "source": [
    "#road kills\n",
    "labels=['0','1','2','3','4','5','6','7','8','9','10','11','14','18']\n",
    "data=[4433970,11247,1298,297,72,36,20,11,7,2,2,2,1,1]\n",
    "plt.figure(figsize=(12,4))\n",
    "plt.bar(range(len(data)),data,color='PowDerBlue')\n",
    "\n",
    "plt.xticks(range(len(data)),labels)\n",
    "plt.xlabel('roadKills')\n",
    "plt.ylabel('count')\n",
    "plt.title('kills on drive',fontsize=15)\n",
    "plt.grid(True)\n",
    "plt.show()"
   ]
  },
  {
   "cell_type": "code",
   "execution_count": 14,
   "metadata": {
    "collapsed": true
   },
   "outputs": [],
   "source": [
    "#rideDistance\n",
    "data = train[train['rideDistance'] < train['rideDistance'].quantile(0.99)]\n",
    "plt.figure(figsize=(12,4))\n",
    "plt.title(\"The ride Distances\",fontsize=15)\n",
    "plt.hist(data['rideDistance'],bins=10,color='PowDerBlue')  #distplot直方图\n",
    "plt.xlabel('rideDistance')\n",
    "plt.grid(True)\n",
    "plt.show()"
   ]
  },
  {
   "cell_type": "code",
   "execution_count": 15,
   "metadata": {},
   "outputs": [],
   "source": [
    "#heals\n",
    "data = train[train['heals'] < train['heals'].quantile(0.99)]\n",
    "plt.figure(figsize=(12,4))\n",
    "plt.hist(data['heals'],bins=10,color='PowDerBlue')  #distplot直方图\n",
    "plt.title(\"The therapeutic drugs\",fontsize=15)\n",
    "plt.xlabel('therapeuticDrugs')\n",
    "plt.grid(True)\n",
    "plt.show()"
   ]
  },
  {
   "cell_type": "code",
   "execution_count": 16,
   "metadata": {
    "collapsed": true
   },
   "outputs": [],
   "source": [
    "#swimDisatance\n",
    "data = train[train['swimDistance'] < train['swimDistance'].quantile(0.99)]\n",
    "plt.figure(figsize=(12,4))\n",
    "#plt.title(\"The ride Distances\")\n",
    "plt.hist(data['swimDistance'],bins=10,color='PowDerBlue')\n",
    "plt.title(\"The swim Distances\",fontsize=15)\n",
    "plt.xlabel('swimDistance')\n",
    "plt.grid(True)\n",
    "plt.show()"
   ]
  },
  {
   "cell_type": "code",
   "execution_count": 17,
   "metadata": {
    "collapsed": true
   },
   "outputs": [],
   "source": [
    "#weaponsAcquired\n",
    "labels2=['0','1','2','3','4','5','6','7','8','9','10','larger']\n",
    "data2=[226578,580951,768836,768347,689622,540721,369549,226776,128698,68479,35642,42767]\n",
    "plt.figure(figsize=(12,4))\n",
    "plt.bar(range(len(data2)),data2,color='PowDerBlue')\n",
    "plt.xticks(range(len(data2)),labels2)\n",
    "plt.ylabel('count')\n",
    "plt.title(\"The weapons acquired\",fontsize=15)\n",
    "plt.xlabel('weaponsAcquired')\n",
    "plt.grid(True)\n",
    "\n",
    "\n",
    "plt.show()"
   ]
  },
  {
   "cell_type": "code",
   "execution_count": 18,
   "metadata": {
    "collapsed": true
   },
   "outputs": [],
   "source": [
    "#walkDistance\n",
    "data=train.copy()\n",
    "#data = train[train['walkDistance'] < train['walkDistance'].quantile(0.99)]\n",
    "plt.figure(figsize=(12,4))\n",
    "plt.hist(data['walkDistance'],bins=10,color='PowDerBlue')  #distplot直方图\n",
    "\n",
    "plt.xlabel('walkingDistance')\n",
    "plt.title('walking distance',fontsize=15)\n",
    "plt.grid(True)\n",
    "plt.show()"
   ]
  },
  {
   "cell_type": "code",
   "execution_count": 20,
   "metadata": {},
   "outputs": [],
   "source": [
    "#playersJoined boxplot\n",
    "playersJioned=train['playersJoined']\n",
    "plt.figure(figsize=(20,10))\n",
    "plt.boxplot(playersJioned)\n",
    "plt.show()"
   ]
  },
  {
   "cell_type": "code",
   "execution_count": 21,
   "metadata": {
    "collapsed": true
   },
   "outputs": [],
   "source": [
    "def box_outlier(data):\n",
    "    df = data.copy(deep=True)\n",
    "    out_index = []\n",
    "    for col in df.columns:            \n",
    "        Q1 = df[col].quantile(q=0.25)      \n",
    "        Q3 = df[col].quantile(q=0.75)       \n",
    "        low_whisker = Q1 - 1.5 * (Q3 - Q1)  \n",
    "        up_whisker = Q3 + 1.5 * (Q3 - Q1)   \n",
    "        rule = (df[col] > up_whisker) | (df[col] < low_whisker)  \n",
    "        out = df[col].index[rule]\n",
    "        out_index += out.tolist()  \n",
    "    df.drop(out_index, inplace=True)\n",
    "    return df\n"
   ]
  },
  {
   "cell_type": "code",
   "execution_count": 22,
   "metadata": {
    "collapsed": true
   },
   "outputs": [],
   "source": [
    "players=train[['playersJoined','walkDistance']]\n",
    "players_dele=box_outlier(players)\n",
    "playersJioned=players_dele['playersJoined']"
   ]
  },
  {
   "cell_type": "code",
   "execution_count": 23,
   "metadata": {
    "collapsed": true
   },
   "outputs": [],
   "source": [
    "#the playersJoined boxplot after deleting outliers\n",
    "plt.figure(figsize=(20,10))\n",
    "plt.boxplot(playersJioned)\n",
    "plt.show()"
   ]
  },
  {
   "cell_type": "code",
   "execution_count": 25,
   "metadata": {},
   "outputs": [],
   "source": [
    "fig_q2 = plt.figure(figsize = (22,12))\n",
    "\n",
    "\n",
    "ax1 = fig_q2.add_subplot(2,3,1) \n",
    "ax2 = fig_q2.add_subplot(2,3,2) \n",
    "ax3 = fig_q2.add_subplot(2,3,3) \n",
    "ax4 = fig_q2.add_subplot(2,3,4) \n",
    "ax5 = fig_q2.add_subplot(2,3,5) \n",
    "ax6 = fig_q2.add_subplot(2,3,6)\n",
    "\n",
    "\n",
    "\n",
    "\n",
    "ax1.bar(range(len(data0)),data0,color='PowDerBlue')\n",
    "ax1.set_xticks(range(len(data0)),labels0)\n",
    "ax1.set_xlabel('kills')\n",
    "#ax1.set_ylabel('count')\n",
    "ax1.set_title('Kill count',fontsize=15)\n",
    "ax1.grid(True)\n",
    "\n",
    "\n",
    "ax2.set_title(\"Damage Dealt\",fontsize=15)\n",
    "ax2.hist(train['damageDealt'],bins=10,color='PowDerBlue')\n",
    "ax2.set_xlabel('damageDealt')\n",
    "#ax2.set_ylabel('count')\n",
    "ax2.grid(True)\n",
    "\n",
    "\n",
    "data_kill0 = data[data['kills']==0]\n",
    "ax3.set_title(\"Damage Dealt by 0 killers\",fontsize=15)\n",
    "ax3.hist(data_kill0['damageDealt'],bins=10,color='PowDerBlue')\n",
    "ax3.set_xlabel('danageDealt')\n",
    "ax3.grid(True)\n",
    "\n",
    "\n",
    "ax4.set_title(\"The walking Distances\",fontsize=15)\n",
    "ax4.hist(data['walkDistance'],bins=10,color='PowDerBlue')\n",
    "ax4.set_xlabel('walkDistance')\n",
    "ax4.grid(True)\n",
    "\n",
    "winner_data=train[train['winPlacePerc'] == 1].copy()\n",
    "winner_data = winner_data[winner_data['walkDistance'] < winner_data['walkDistance'].quantile(0.99)]\n",
    "ax5.set_title(\"The winner's walking distances\",fontsize=15)\n",
    "ax5.hist(winner_data['walkDistance'],bins=10,color='PowDerBlue')  #distplot直方图\n",
    "ax5.set_xlabel('walkDistance')\n",
    "ax5.grid(True)\n",
    "\n",
    "ax6.set_title(\"weaponsAcquired count\",fontsize=15)\n",
    "ax6.bar(range(len(data2)),data2,color='PowDerBlue')\n",
    "ax6.set_xticks(range(len(data2)),labels2)\n",
    "ax6.set_xlabel('weaponsAcquired')\n",
    "#ax6.set_ylabel('count')\n",
    "ax6.grid(True)\n",
    "\n",
    "\n",
    "plt.show()"
   ]
  },
  {
   "cell_type": "code",
   "execution_count": 26,
   "metadata": {
    "collapsed": true
   },
   "outputs": [],
   "source": [
    "#R2 of models\n",
    "labels5=['Linear regression','Decision tree','Random forest']\n",
    "data5=[81.03,86.67,84.16]\n",
    "plt.figure(figsize=(10,10))\n",
    "plt.bar(range(len(data5)),data5,color='PowDerBlue',width=0.3,align='center')\n",
    "plt.xticks(range(len(data5)),labels5)\n",
    "plt.xlabel('model',fontsize=15)\n",
    "plt.ylabel('R2',fontsize=15)\n",
    "plt.title('R2 of each model',fontsize=15)\n",
    "plt.grid(True)\n",
    "for x,y in zip(range(len(data5)),data5):\n",
    "    plt.text(x,y,y,fontsize=13,horizontalalignment='center')\n",
    "plt.show()"
   ]
  },
  {
   "cell_type": "code",
   "execution_count": 27,
   "metadata": {
    "collapsed": true
   },
   "outputs": [],
   "source": [
    "#RMSE of all models\n",
    "labels5=['Linear regression','Decision tree','Random forest']\n",
    "data5=[0.13368,0.12031,0.122185]\n",
    "plt.figure(figsize=(10,10))\n",
    "plt.bar(range(len(data5)),data5,color='PowDerBlue',width=0.3,align='center')\n",
    "plt.xticks(range(len(data5)),labels5)\n",
    "plt.xlabel('model',fontsize=15)\n",
    "plt.ylabel('RMSE',fontsize=15)\n",
    "plt.title('RMSE of each model',fontsize=15)\n",
    "plt.grid(True)\n",
    "for x,y in zip(range(len(data5)),data5):\n",
    "    plt.text(x,y,y,fontsize=13,horizontalalignment='center')\n",
    "plt.show()\n"
   ]
  },
  {
   "cell_type": "code",
   "execution_count": 28,
   "metadata": {
    "collapsed": true
   },
   "outputs": [],
   "source": [
    "#Running time of all models\n",
    "labels5=['Linear regression','Decision tree','Random forest']\n",
    "data5=[0.1598,0.06853 ,0.19205]\n",
    "plt.figure(figsize=(10,10))\n",
    "plt.bar(range(len(data5)),data5,color='PowDerBlue',width=0.3,align='center')\n",
    "plt.xticks(range(len(data5)),labels5)\n",
    "plt.xlabel('model',fontsize=15)\n",
    "plt.ylabel('time',fontsize=15)\n",
    "plt.title('Running time of each model',fontsize=15)\n",
    "plt.grid(True)\n",
    "for x,y in zip(range(len(data5)),data5):\n",
    "    plt.text(x,y,y,fontsize=13,horizontalalignment='center')\n",
    "plt.show()\n"
   ]
  },
  {
   "cell_type": "code",
   "execution_count": null,
   "metadata": {},
   "outputs": [],
   "source": []
  },
  {
   "cell_type": "code",
   "execution_count": 1,
   "metadata": {},
   "outputs": [
    {
     "name": "stdout",
     "output_type": "stream",
     "text": [
      "Requirement already satisfied: statsmodels in ./opt/anaconda3/lib/python3.7/site-packages (0.10.1)\n",
      "Requirement already satisfied: pandas>=0.19 in ./opt/anaconda3/lib/python3.7/site-packages (from statsmodels) (1.3.5)\n",
      "Requirement already satisfied: scipy>=0.18 in ./opt/anaconda3/lib/python3.7/site-packages (from statsmodels) (1.4.1)\n",
      "Requirement already satisfied: patsy>=0.4.0 in ./opt/anaconda3/lib/python3.7/site-packages (from statsmodels) (0.5.1)\n",
      "Requirement already satisfied: numpy>=1.11 in ./opt/anaconda3/lib/python3.7/site-packages (from statsmodels) (1.21.6)\n",
      "Requirement already satisfied: python-dateutil>=2.7.3 in ./opt/anaconda3/lib/python3.7/site-packages (from pandas>=0.19->statsmodels) (2.8.2)\n",
      "Requirement already satisfied: pytz>=2017.3 in ./opt/anaconda3/lib/python3.7/site-packages (from pandas>=0.19->statsmodels) (2019.3)\n",
      "Requirement already satisfied: six in ./opt/anaconda3/lib/python3.7/site-packages (from patsy>=0.4.0->statsmodels) (1.16.0)\n",
      "Note: you may need to restart the kernel to use updated packages.\n"
     ]
    }
   ],
   "source": [
    "pip install statsmodels"
   ]
  },
  {
   "cell_type": "code",
   "execution_count": 2,
   "metadata": {},
   "outputs": [
    {
     "name": "stderr",
     "output_type": "stream",
     "text": [
      "/Users/yaoyutong/opt/anaconda3/lib/python3.7/site-packages/statsmodels/tools/_testing.py:19: FutureWarning: pandas.util.testing is deprecated. Use the functions in the public API at pandas.testing instead.\n",
      "  import pandas.util.testing as tm\n"
     ]
    }
   ],
   "source": [
    "import statsmodels.api"
   ]
  },
  {
   "cell_type": "code",
   "execution_count": null,
   "metadata": {},
   "outputs": [],
   "source": []
  },
  {
   "cell_type": "code",
   "execution_count": null,
   "metadata": {},
   "outputs": [],
   "source": []
  },
  {
   "cell_type": "code",
   "execution_count": null,
   "metadata": {},
   "outputs": [],
   "source": []
  },
  {
   "cell_type": "code",
   "execution_count": null,
   "metadata": {},
   "outputs": [],
   "source": []
  }
 ],
 "metadata": {
  "kernelspec": {
   "display_name": "Python 3 (ipykernel)",
   "language": "python",
   "name": "python3"
  },
  "language_info": {
   "codemirror_mode": {
    "name": "ipython",
    "version": 3
   },
   "file_extension": ".py",
   "mimetype": "text/x-python",
   "name": "python",
   "nbconvert_exporter": "python",
   "pygments_lexer": "ipython3",
   "version": "3.7.4"
  }
 },
 "nbformat": 4,
 "nbformat_minor": 1
}
